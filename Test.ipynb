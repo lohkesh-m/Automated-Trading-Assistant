{
 "cells": [
  {
   "cell_type": "code",
   "execution_count": 31,
   "id": "1d13e3a5",
   "metadata": {},
   "outputs": [],
   "source": [
    "import pandas as pd\n",
    "import numpy as np\n",
    "import ta\n",
    "import matplotlib.pyplot as plt\n",
    "%matplotlib inline"
   ]
  },
  {
   "cell_type": "code",
   "execution_count": 32,
   "id": "a0a8bd90",
   "metadata": {},
   "outputs": [],
   "source": [
    "df = pd.read_excel('Nifty50_Data.xlsx',sheet_name='ICICIGI.NS')"
   ]
  },
  {
   "cell_type": "code",
   "execution_count": 33,
   "id": "3891d600",
   "metadata": {},
   "outputs": [
    {
     "data": {
      "text/html": [
       "<div>\n",
       "<style scoped>\n",
       "    .dataframe tbody tr th:only-of-type {\n",
       "        vertical-align: middle;\n",
       "    }\n",
       "\n",
       "    .dataframe tbody tr th {\n",
       "        vertical-align: top;\n",
       "    }\n",
       "\n",
       "    .dataframe thead th {\n",
       "        text-align: right;\n",
       "    }\n",
       "</style>\n",
       "<table border=\"1\" class=\"dataframe\">\n",
       "  <thead>\n",
       "    <tr style=\"text-align: right;\">\n",
       "      <th></th>\n",
       "      <th>Date</th>\n",
       "      <th>High</th>\n",
       "      <th>Low</th>\n",
       "      <th>Open</th>\n",
       "      <th>Close</th>\n",
       "      <th>Volume</th>\n",
       "      <th>Adj Close</th>\n",
       "    </tr>\n",
       "  </thead>\n",
       "  <tbody>\n",
       "    <tr>\n",
       "      <th>66</th>\n",
       "      <td>2021-12-31</td>\n",
       "      <td>1406.949951</td>\n",
       "      <td>1372.75</td>\n",
       "      <td>1373.849976</td>\n",
       "      <td>1401.250000</td>\n",
       "      <td>343301</td>\n",
       "      <td>1401.250000</td>\n",
       "    </tr>\n",
       "    <tr>\n",
       "      <th>67</th>\n",
       "      <td>2022-01-03</td>\n",
       "      <td>1431.300049</td>\n",
       "      <td>1398.25</td>\n",
       "      <td>1402.000000</td>\n",
       "      <td>1409.800049</td>\n",
       "      <td>295484</td>\n",
       "      <td>1409.800049</td>\n",
       "    </tr>\n",
       "    <tr>\n",
       "      <th>68</th>\n",
       "      <td>2022-01-04</td>\n",
       "      <td>1438.000000</td>\n",
       "      <td>1415.00</td>\n",
       "      <td>1417.000000</td>\n",
       "      <td>1423.599976</td>\n",
       "      <td>390918</td>\n",
       "      <td>1423.599976</td>\n",
       "    </tr>\n",
       "    <tr>\n",
       "      <th>69</th>\n",
       "      <td>2022-01-05</td>\n",
       "      <td>1456.199951</td>\n",
       "      <td>1425.50</td>\n",
       "      <td>1429.900024</td>\n",
       "      <td>1449.550049</td>\n",
       "      <td>344233</td>\n",
       "      <td>1449.550049</td>\n",
       "    </tr>\n",
       "    <tr>\n",
       "      <th>70</th>\n",
       "      <td>2022-01-06</td>\n",
       "      <td>1449.699951</td>\n",
       "      <td>1430.25</td>\n",
       "      <td>1430.250000</td>\n",
       "      <td>1449.000000</td>\n",
       "      <td>172634</td>\n",
       "      <td>1449.000000</td>\n",
       "    </tr>\n",
       "  </tbody>\n",
       "</table>\n",
       "</div>"
      ],
      "text/plain": [
       "         Date         High      Low         Open        Close  Volume  \\\n",
       "66 2021-12-31  1406.949951  1372.75  1373.849976  1401.250000  343301   \n",
       "67 2022-01-03  1431.300049  1398.25  1402.000000  1409.800049  295484   \n",
       "68 2022-01-04  1438.000000  1415.00  1417.000000  1423.599976  390918   \n",
       "69 2022-01-05  1456.199951  1425.50  1429.900024  1449.550049  344233   \n",
       "70 2022-01-06  1449.699951  1430.25  1430.250000  1449.000000  172634   \n",
       "\n",
       "      Adj Close  \n",
       "66  1401.250000  \n",
       "67  1409.800049  \n",
       "68  1423.599976  \n",
       "69  1449.550049  \n",
       "70  1449.000000  "
      ]
     },
     "execution_count": 33,
     "metadata": {},
     "output_type": "execute_result"
    }
   ],
   "source": [
    "df.tail()"
   ]
  },
  {
   "cell_type": "code",
   "execution_count": 34,
   "id": "e1c53da4",
   "metadata": {},
   "outputs": [],
   "source": [
    "Open=df[\"Open\"]\n",
    "High=df[\"High\"]\n",
    "Low=df[\"Low\"]\n",
    "Close=df[\"Close\"]\n",
    "Volume=df[\"Volume\"]\n",
    "A=[]"
   ]
  },
  {
   "cell_type": "code",
   "execution_count": 35,
   "id": "893967a8",
   "metadata": {},
   "outputs": [
    {
     "name": "stdout",
     "output_type": "stream",
     "text": [
      "Check BB\n"
     ]
    },
    {
     "data": {
      "text/plain": [
       "[0, 0, 'Volume No']"
      ]
     },
     "execution_count": 35,
     "metadata": {},
     "output_type": "execute_result"
    }
   ],
   "source": [
    "%run ./Check_Indicators.ipynb\n",
    "Check_Indicators(Open,High,Low,Close,Volume,A)"
   ]
  },
  {
   "cell_type": "code",
   "execution_count": 36,
   "id": "66996e79",
   "metadata": {},
   "outputs": [
    {
     "name": "stdout",
     "output_type": "stream",
     "text": [
      "[0, 0, 'Volume No']\n"
     ]
    }
   ],
   "source": [
    "print(A)"
   ]
  },
  {
   "cell_type": "code",
   "execution_count": 37,
   "id": "67252a85",
   "metadata": {},
   "outputs": [
    {
     "name": "stdout",
     "output_type": "stream",
     "text": [
      "[0, 0, 'Volume No']\n"
     ]
    }
   ],
   "source": [
    "Open=df.iloc[-1][\"Open\"]\n",
    "High=df.iloc[-1][\"High\"]\n",
    "Low=df.iloc[-1][\"Low\"]\n",
    "Close=df.iloc[-1][\"Close\"]\n",
    "print(A)"
   ]
  },
  {
   "cell_type": "code",
   "execution_count": 38,
   "id": "f56feadc",
   "metadata": {},
   "outputs": [
    {
     "name": "stdout",
     "output_type": "stream",
     "text": [
      "[0, 0, 'Volume No', 1, 0]\n"
     ]
    }
   ],
   "source": [
    "%run ./Check_SCP.ipynb\n",
    "Check_SCP(Open,High,Low,Close,A)\n",
    "print(A)"
   ]
  },
  {
   "cell_type": "code",
   "execution_count": 41,
   "id": "8cce6919",
   "metadata": {},
   "outputs": [
    {
     "name": "stdout",
     "output_type": "stream",
     "text": [
      "[0, 0, 'Volume No', 1, 0, 0.5]\n"
     ]
    }
   ],
   "source": [
    "sum=0\n",
    "multiplier=1\n",
    "for i in A:\n",
    "    if (isinstance(i,int)==1) :\n",
    "        sum+=i\n",
    "    if i=='Volume Yes' :\n",
    "        multiplier*=2\n",
    "    if i=='Volume No' :\n",
    "        multiplier*=0.5\n",
    "    if i=='Doji':\n",
    "        multiplier*=2\n",
    "sum=sum*multiplier\n",
    "A.append(sum)\n",
    "print(A)"
   ]
  },
  {
   "cell_type": "code",
   "execution_count": 42,
   "id": "700c4100",
   "metadata": {},
   "outputs": [],
   "source": [
    "nifty_tickers=pd.read_csv('Nifty_yahoo_ticker.csv')"
   ]
  },
  {
   "cell_type": "code",
   "execution_count": 43,
   "id": "4b61c327",
   "metadata": {},
   "outputs": [
    {
     "name": "stdout",
     "output_type": "stream",
     "text": [
      "    Unnamed: 0                                       Company Name  \\\n",
      "0            0                                           ACC Ltd.   \n",
      "1            1                             Adani Enterprises Ltd.   \n",
      "2            2                            Adani Green Energy Ltd.   \n",
      "3            3                            Adani Transmission Ltd.   \n",
      "4            4                                Ambuja Cements Ltd.   \n",
      "5            5                   Apollo Hospitals Enterprise Ltd.   \n",
      "6            6                              Aurobindo Pharma Ltd.   \n",
      "7            7                             Avenue Supermarts Ltd.   \n",
      "8            8                   Bajaj Holdings & Investment Ltd.   \n",
      "9            9                                  Bandhan Bank Ltd.   \n",
      "10          10                                     Bank of Baroda   \n",
      "11          11                           Berger Paints India Ltd.   \n",
      "12          12                                        Biocon Ltd.   \n",
      "13          13                                         Bosch Ltd.   \n",
      "14          14                             Cadila Healthcare Ltd.   \n",
      "15          15  Cholamandalam Investment and Finance Company Ltd.   \n",
      "16          16                     Colgate Palmolive (India) Ltd.   \n",
      "17          17                                           DLF Ltd.   \n",
      "18          18                                   Dabur India Ltd.   \n",
      "19          19                                  GAIL (India) Ltd.   \n",
      "20          20                                  Gland Pharma Ltd.   \n",
      "21          21                      Godrej Consumer Products Ltd.   \n",
      "22          22                 HDFC Asset Management Company Ltd.   \n",
      "23          23                                 Havells India Ltd.   \n",
      "24          24               Hindustan Petroleum Corporation Ltd.   \n",
      "25          25       ICICI Lombard General Insurance Company Ltd.   \n",
      "26          26       ICICI Prudential Life Insurance Company Ltd.   \n",
      "27          27                              Indraprastha Gas Ltd.   \n",
      "28          28                                  Indus Towers Ltd.   \n",
      "29          29                             Info Edge (India) Ltd.   \n",
      "30          30                           InterGlobe Aviation Ltd.   \n",
      "31          31                          Jindal Steel & Power Ltd.   \n",
      "32          32                            Jubilant Foodworks Ltd.   \n",
      "33          33                      Larsen & Toubro Infotech Ltd.   \n",
      "34          34                                         Lupin Ltd.   \n",
      "35          35                                        Marico Ltd.   \n",
      "36          36                               Muthoot Finance Ltd.   \n",
      "37          37                                          NMDC Ltd.   \n",
      "38          38                                 PI Industries Ltd.   \n",
      "39          39                           Pidilite Industries Ltd.   \n",
      "40          40                           Piramal Enterprises Ltd.   \n",
      "41          41        Procter & Gamble Hygiene & Health Care Ltd.   \n",
      "42          42                               Punjab National Bank   \n",
      "43          43                SBI Cards and Payment Services Ltd.   \n",
      "44          44                                       Siemens Ltd.   \n",
      "45          45                      Steel Authority of India Ltd.   \n",
      "46          46                       Torrent Pharmaceuticals Ltd.   \n",
      "47          47                                United Spirits Ltd.   \n",
      "48          48                                       Vedanta Ltd.   \n",
      "49          49                                      Yes Bank Ltd.   \n",
      "\n",
      "                    Industry      Symbol Series     ISIN Code   Yahoo_Symbol  \n",
      "0   CEMENT & CEMENT PRODUCTS         ACC     EQ  INE012A01025         ACC.NS  \n",
      "1                     METALS    ADANIENT     EQ  INE423A01024    ADANIENT.NS  \n",
      "2                      POWER  ADANIGREEN     EQ  INE364U01010  ADANIGREEN.NS  \n",
      "3                      POWER  ADANITRANS     BE  INE931S01010  ADANITRANS.NS  \n",
      "4   CEMENT & CEMENT PRODUCTS   AMBUJACEM     EQ  INE079A01024   AMBUJACEM.NS  \n",
      "5        HEALTHCARE SERVICES  APOLLOHOSP     EQ  INE437A01024  APOLLOHOSP.NS  \n",
      "6                     PHARMA  AUROPHARMA     EQ  INE406A01037  AUROPHARMA.NS  \n",
      "7          CONSUMER SERVICES       DMART     EQ  INE192R01011       DMART.NS  \n",
      "8         FINANCIAL SERVICES  BAJAJHLDNG     EQ  INE118A01012  BAJAJHLDNG.NS  \n",
      "9         FINANCIAL SERVICES  BANDHANBNK     EQ  INE545U01014  BANDHANBNK.NS  \n",
      "10        FINANCIAL SERVICES  BANKBARODA     EQ  INE028A01039  BANKBARODA.NS  \n",
      "11            CONSUMER GOODS  BERGEPAINT     EQ  INE463A01038  BERGEPAINT.NS  \n",
      "12                    PHARMA      BIOCON     EQ  INE376G01013      BIOCON.NS  \n",
      "13                AUTOMOBILE    BOSCHLTD     EQ  INE323A01026    BOSCHLTD.NS  \n",
      "14                    PHARMA    CADILAHC     EQ  INE010B01027    CADILAHC.NS  \n",
      "15        FINANCIAL SERVICES    CHOLAFIN     EQ  INE121A01024    CHOLAFIN.NS  \n",
      "16            CONSUMER GOODS      COLPAL     EQ  INE259A01022      COLPAL.NS  \n",
      "17              CONSTRUCTION         DLF     EQ  INE271C01023         DLF.NS  \n",
      "18            CONSUMER GOODS       DABUR     EQ  INE016A01026       DABUR.NS  \n",
      "19                 OIL & GAS        GAIL     EQ  INE129A01019        GAIL.NS  \n",
      "20                    PHARMA       GLAND     EQ  INE068V01023       GLAND.NS  \n",
      "21            CONSUMER GOODS    GODREJCP     EQ  INE102D01028    GODREJCP.NS  \n",
      "22        FINANCIAL SERVICES     HDFCAMC     EQ  INE127D01025     HDFCAMC.NS  \n",
      "23            CONSUMER GOODS     HAVELLS     EQ  INE176B01034     HAVELLS.NS  \n",
      "24                 OIL & GAS   HINDPETRO     EQ  INE094A01015   HINDPETRO.NS  \n",
      "25        FINANCIAL SERVICES     ICICIGI     EQ  INE765G01017     ICICIGI.NS  \n",
      "26        FINANCIAL SERVICES  ICICIPRULI     EQ  INE726G01019  ICICIPRULI.NS  \n",
      "27                 OIL & GAS         IGL     EQ  INE203G01027         IGL.NS  \n",
      "28                   TELECOM  INDUSTOWER     EQ  INE121J01017  INDUSTOWER.NS  \n",
      "29         CONSUMER SERVICES      NAUKRI     EQ  INE663F01024      NAUKRI.NS  \n",
      "30                  SERVICES      INDIGO     EQ  INE646L01027      INDIGO.NS  \n",
      "31                    METALS  JINDALSTEL     EQ  INE749A01030  JINDALSTEL.NS  \n",
      "32         CONSUMER SERVICES    JUBLFOOD     EQ  INE797F01012    JUBLFOOD.NS  \n",
      "33                        IT         LTI     EQ  INE214T01019         LTI.NS  \n",
      "34                    PHARMA       LUPIN     EQ  INE326A01037       LUPIN.NS  \n",
      "35            CONSUMER GOODS      MARICO     EQ  INE196A01026      MARICO.NS  \n",
      "36        FINANCIAL SERVICES  MUTHOOTFIN     EQ  INE414G01012  MUTHOOTFIN.NS  \n",
      "37                    METALS        NMDC     EQ  INE584A01023        NMDC.NS  \n",
      "38  FERTILISERS & PESTICIDES       PIIND     EQ  INE603J01030       PIIND.NS  \n",
      "39                 CHEMICALS  PIDILITIND     EQ  INE318A01026  PIDILITIND.NS  \n",
      "40        FINANCIAL SERVICES         PEL     EQ  INE140A01024         PEL.NS  \n",
      "41            CONSUMER GOODS        PGHH     EQ  INE179A01014        PGHH.NS  \n",
      "42        FINANCIAL SERVICES         PNB     EQ  INE160A01022         PNB.NS  \n",
      "43        FINANCIAL SERVICES     SBICARD     EQ  INE018E01016     SBICARD.NS  \n",
      "44  INDUSTRIAL MANUFACTURING     SIEMENS     EQ  INE003A01024     SIEMENS.NS  \n",
      "45                    METALS        SAIL     EQ  INE114A01011        SAIL.NS  \n",
      "46                    PHARMA  TORNTPHARM     EQ  INE685A01028  TORNTPHARM.NS  \n",
      "47            CONSUMER GOODS  MCDOWELL-N     EQ  INE854D01024  MCDOWELL-N.NS  \n",
      "48                    METALS        VEDL     EQ  INE205A01025        VEDL.NS  \n",
      "49        FINANCIAL SERVICES     YESBANK     EQ  INE528G01035     YESBANK.NS  \n"
     ]
    }
   ],
   "source": [
    "print(nifty_tickers)"
   ]
  },
  {
   "cell_type": "code",
   "execution_count": 45,
   "id": "94ad2ac3",
   "metadata": {},
   "outputs": [],
   "source": [
    "dF=pd.DataFrame([],columns=[\"a\",\"b\",\"c\"])"
   ]
  },
  {
   "cell_type": "code",
   "execution_count": 47,
   "id": "27e6b6bf",
   "metadata": {},
   "outputs": [
    {
     "data": {
      "text/plain": [
       "<bound method NDFrame.head of Empty DataFrame\n",
       "Columns: [a, b, c]\n",
       "Index: []>"
      ]
     },
     "execution_count": 47,
     "metadata": {},
     "output_type": "execute_result"
    }
   ],
   "source": []
  },
  {
   "cell_type": "code",
   "execution_count": null,
   "id": "a1963063",
   "metadata": {},
   "outputs": [],
   "source": []
  }
 ],
 "metadata": {
  "kernelspec": {
   "display_name": "Python 3",
   "language": "python",
   "name": "python3"
  },
  "language_info": {
   "codemirror_mode": {
    "name": "ipython",
    "version": 3
   },
   "file_extension": ".py",
   "mimetype": "text/x-python",
   "name": "python",
   "nbconvert_exporter": "python",
   "pygments_lexer": "ipython3",
   "version": "3.8.8"
  }
 },
 "nbformat": 4,
 "nbformat_minor": 5
}
