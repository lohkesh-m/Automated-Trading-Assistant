{
 "cells": [
  {
   "cell_type": "code",
   "execution_count": 1,
   "id": "b2c4317e",
   "metadata": {},
   "outputs": [],
   "source": [
    "def Check_Marubozu(Shadow_u,Shadow_l,Open,Close):\n",
    "    if Shadow_u<0.1 and Shadow_l<0.1:\n",
    "        if Open<Close:\n",
    "            Opport.append(1)\n",
    "        else:\n",
    "            Opport.append(-1)\n",
    "    else:\n",
    "        Opport.append(0)"
   ]
  },
  {
   "cell_type": "code",
   "execution_count": 2,
   "id": "308c63ab",
   "metadata": {},
   "outputs": [],
   "source": [
    "def Check_doji(Shadow_u,Shadow_l):\n",
    "    if Shadow_u >5 and Shadow_l>5:\n",
    "        Opport.append(\"Doji\")\n",
    "    else:\n",
    "        Opport.append(0)"
   ]
  },
  {
   "cell_type": "code",
   "execution_count": 3,
   "id": "24d2866e",
   "metadata": {},
   "outputs": [],
   "source": [
    "def Check_SCP(Open,High,Low,Close,A):\n",
    "    global Opport\n",
    "    Opport=A\n",
    "    if Open<Close:\n",
    "        Shadow_u=(High-Close)/(Close-Open)\n",
    "        Shadow_l=(Open-Low)/(Close-Open)\n",
    "    else :\n",
    "        Shadow_u=(High-Open)/(Open-Close+1)\n",
    "        Shadow_l=(Close-Low)/(Open-Close+1)\n",
    "    Check_Marubozu(Shadow_u,Shadow_l,Open,Close)\n",
    "    #Check_Paper_Umbrella(Shadow_u,Shadow_l,Open,Close)\n",
    "    Check_doji(Shadow_u,Shadow_l)\n",
    "    return Opport"
   ]
  },
  {
   "cell_type": "code",
   "execution_count": null,
   "id": "2fc8cef8",
   "metadata": {},
   "outputs": [],
   "source": []
  }
 ],
 "metadata": {
  "kernelspec": {
   "display_name": "Python 3",
   "language": "python",
   "name": "python3"
  },
  "language_info": {
   "codemirror_mode": {
    "name": "ipython",
    "version": 3
   },
   "file_extension": ".py",
   "mimetype": "text/x-python",
   "name": "python",
   "nbconvert_exporter": "python",
   "pygments_lexer": "ipython3",
   "version": "3.8.8"
  }
 },
 "nbformat": 4,
 "nbformat_minor": 5
}
