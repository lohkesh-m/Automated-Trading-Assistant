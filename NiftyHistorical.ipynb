{
 "cells": [
  {
   "cell_type": "code",
   "execution_count": 2,
   "id": "65c44677",
   "metadata": {},
   "outputs": [
    {
     "name": "stdout",
     "output_type": "stream",
     "text": [
      "0\n"
     ]
    }
   ],
   "source": [
    "import pandas as pd\n",
    "from pandas_datareader import data as pdr\n",
    "from datetime import datetime\n",
    "nifty_tickers=pd.read_csv('Nifty_yahoo_ticker.csv')\n",
    "nifty_list=nifty_tickers['Yahoo_Symbol'].tolist()\n",
    "end = datetime.today()\n",
    "begin=end-pd.DateOffset(100)\n",
    "st=begin.strftime('%Y-%m-%d') \n",
    "ed=end.strftime('%Y-%m-%d')\n",
    "data=[]\n",
    "niftyd_list=[]\n",
    "for i,k in enumerate(nifty_list):\n",
    "    try:\n",
    "        data.append(pdr.get_data_yahoo(k,st,ed))\n",
    "        niftyd_list.append(k)\n",
    "        \n",
    "    except Exception:\n",
    "        print('Not found',k)\n",
    "        \n",
    "        pass\n",
    "writer=pd.ExcelWriter(\"Nifty50_Data.xlsx\")\n",
    "for i, A in enumerate(data):\n",
    "    A.to_excel(writer,sheet_name=\"{0}\".format(niftyd_list[i]))\n",
    "writer.save()\n",
    "print(\"0\")"
   ]
  },
  {
   "cell_type": "code",
   "execution_count": null,
   "id": "e7d0cc35",
   "metadata": {},
   "outputs": [],
   "source": []
  }
 ],
 "metadata": {
  "kernelspec": {
   "display_name": "Python 3",
   "language": "python",
   "name": "python3"
  },
  "language_info": {
   "codemirror_mode": {
    "name": "ipython",
    "version": 3
   },
   "file_extension": ".py",
   "mimetype": "text/x-python",
   "name": "python",
   "nbconvert_exporter": "python",
   "pygments_lexer": "ipython3",
   "version": "3.8.8"
  }
 },
 "nbformat": 4,
 "nbformat_minor": 5
}
