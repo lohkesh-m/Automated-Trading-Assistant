{
 "cells": [
  {
   "cell_type": "code",
   "execution_count": 2,
   "id": "0522617e",
   "metadata": {},
   "outputs": [],
   "source": [
    "import pandas as pd\n",
    "from pandas_datareader import data as pdr\n",
    "from datetime import datetime\n",
    "nifty_tickers=pd.read_csv('Nifty_yahoo_ticker.csv')\n",
    "nifty_list=nifty_tickers['Yahoo_Symbol'].tolist()\n",
    "end = datetime.today()\n",
    "begin=end-pd.DateOffset(5) #Change this number\n",
    "st=begin.strftime('%Y-%m-%d') \n",
    "ed=end.strftime('%Y-%m-%d')\n",
    "data=[]\n",
    "niftyd_list=[]\n",
    "for i,k in enumerate(nifty_list):\n",
    "    try:\n",
    "        data.append(pdr.get_data_yahoo(k,st,ed))\n",
    "        niftyd_list.append(k)\n",
    "        \n",
    "    except Exception:\n",
    "        print('Not found',k)\n",
    "        \n",
    "        pass\n",
    "result={}\n",
    "writer=pd.ExcelWriter(\"Nifty50_Datanew.xlsx\")\n",
    "for i, A in enumerate(data):\n",
    "    A.to_excel(writer,sheet_name=\"{0}\".format(niftyd_list[i]))\n",
    "writer.save()\n",
    "data_old=pd.read_excel(\"Nifty50_Data.xlsx\",sheet_name=None,index_col=0)\n",
    "data_new=pd.read_excel(\"Nifty50_Datanew.xlsx\",sheet_name=None,index_col=0)\n",
    "for key in (data_old.keys() | data_new.keys()):\n",
    "    if key in data_old: result.setdefault(key, []).append(data_old[key])\n",
    "    if key in data_new: result.setdefault(key, []).append(data_new[key])\n",
    "def convert_dict_to_list(result):\n",
    "    name_list=[]\n",
    "    df_list=[]\n",
    "    for key in result.keys():\n",
    "        name_list.append(key)\n",
    "        \n",
    "    for name in name_list:\n",
    "        kk=result[name]\n",
    "        kf=pd.concat(kk,axis=0)\n",
    "        df3 = kf.loc[~kf.index.duplicated(keep='first')]\n",
    "        df3.name=name\n",
    "        df_list.append(df3)\n",
    "        \n",
    "    return df_list\n",
    "df_list=[]\n",
    "df_list=convert_dict_to_list(result)\n",
    "writer=pd.ExcelWriter(\"Nifty50_Data.xlsx\")\n",
    "for i, A in enumerate(df_list):\n",
    "    A.to_excel(writer,sheet_name=\"{0}\".format(df_list[i].name))\n",
    "writer.save()"
   ]
  },
  {
   "cell_type": "code",
   "execution_count": null,
   "id": "cd26bcc6",
   "metadata": {},
   "outputs": [],
   "source": []
  }
 ],
 "metadata": {
  "kernelspec": {
   "display_name": "Python 3",
   "language": "python",
   "name": "python3"
  },
  "language_info": {
   "codemirror_mode": {
    "name": "ipython",
    "version": 3
   },
   "file_extension": ".py",
   "mimetype": "text/x-python",
   "name": "python",
   "nbconvert_exporter": "python",
   "pygments_lexer": "ipython3",
   "version": "3.8.8"
  }
 },
 "nbformat": 4,
 "nbformat_minor": 5
}
