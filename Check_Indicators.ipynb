{
 "cells": [
  {
   "cell_type": "code",
   "execution_count": 24,
   "id": "bdc13ecd",
   "metadata": {},
   "outputs": [],
   "source": [
    "def Check_RSI(Open,High,Low,Close):\n",
    "    RSI=ta.momentum.RSIIndicator(Close).rsi()\n",
    "    Rsi_Check=RSI.iloc[-1]\n",
    "    if Rsi_Check >= 70:\n",
    "        Opport.append(-1)\n",
    "    elif Rsi_Check <= 30:\n",
    "        Opport.append(1)\n",
    "    else:\n",
    "        Opport.append(0)"
   ]
  },
  {
   "cell_type": "code",
   "execution_count": 25,
   "id": "cbf4452d",
   "metadata": {},
   "outputs": [],
   "source": [
    "def Check_MACD(Open,High,Low,Close):\n",
    "    MACD=ta.trend.MACD(Close).macd()\n",
    "    if MACD.iloc[-1]>=0:\n",
    "        if MACD.iloc[-2]<0:\n",
    "            Opport.append(1)\n",
    "        else :\n",
    "            Opport.append(0)\n",
    "    elif MACD.iloc[-1]<=0:\n",
    "        if MACD.iloc[-2]>0:\n",
    "            Opport.append(-1)\n",
    "        else :\n",
    "            Opport.append(0)\n",
    "    else :\n",
    "        Opport.append(0)\n"
   ]
  },
  {
   "cell_type": "code",
   "execution_count": null,
   "id": "04d289a1",
   "metadata": {},
   "outputs": [],
   "source": [
    "\n",
    "    "
   ]
  },
  {
   "cell_type": "code",
   "execution_count": 26,
   "id": "26e9547c",
   "metadata": {},
   "outputs": [],
   "source": [
    "def Check_Volume(Volume):\n",
    "    VEMA=ta.trend.ema_indicator(Volume,20)\n",
    "    if Volume.iloc[-1]>VEMA.iloc[-1]:\n",
    "        Opport.append(\"Volume Yes\")\n",
    "    else :\n",
    "        Opport.append(\"Volume No\")"
   ]
  },
  {
   "cell_type": "code",
   "execution_count": 27,
   "id": "adfcb1fc",
   "metadata": {},
   "outputs": [],
   "source": [
    "def Check_Indicators(Open,High,Low,Close,Volume,A):\n",
    "    global Opport \n",
    "    Opport=A\n",
    "    #Check RSI\n",
    "    Check_RSI(Open,High,Low,Close)\n",
    "    #Check MACD\n",
    "    Check_MACD(Open,High,Low,Close)\n",
    "    #Check Boollinger Bands\n",
    "    Check_Volume(Volume)\n",
    "    return Opport"
   ]
  },
  {
   "cell_type": "code",
   "execution_count": null,
   "id": "902138a5",
   "metadata": {},
   "outputs": [],
   "source": []
  },
  {
   "cell_type": "code",
   "execution_count": null,
   "id": "2bb3e804",
   "metadata": {},
   "outputs": [],
   "source": []
  }
 ],
 "metadata": {
  "kernelspec": {
   "display_name": "Python 3",
   "language": "python",
   "name": "python3"
  },
  "language_info": {
   "codemirror_mode": {
    "name": "ipython",
    "version": 3
   },
   "file_extension": ".py",
   "mimetype": "text/x-python",
   "name": "python",
   "nbconvert_exporter": "python",
   "pygments_lexer": "ipython3",
   "version": "3.8.8"
  }
 },
 "nbformat": 4,
 "nbformat_minor": 5
}
