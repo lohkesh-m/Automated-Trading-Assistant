{
 "cells": [
  {
   "cell_type": "code",
   "execution_count": 1,
   "id": "dc743009",
   "metadata": {},
   "outputs": [],
   "source": [
    "import pandas as pd\n",
    "import numpy as np\n",
    "import ta"
   ]
  },
  {
   "cell_type": "code",
   "execution_count": 2,
   "id": "154b1a3b",
   "metadata": {},
   "outputs": [
    {
     "name": "stdout",
     "output_type": "stream",
     "text": [
      "             Name Marubozu Doji RSI MACD      Volume Total\n",
      "0   ADANIPORTS.NS        0    0   0    0  Volume Yes     0\n",
      "1   ASIANPAINT.NS        0    0  -1    0  Volume Yes    -2\n",
      "2     AXISBANK.NS        0    0   0    1   Volume No   0.5\n",
      "3   BAJAJ-AUTO.NS        0    0   0    0   Volume No   0.0\n",
      "4   BAJFINANCE.NS        1    0   0    0  Volume Yes     2\n",
      "..            ...      ...  ...  ..  ...         ...   ...\n",
      "95        SAIL.NS        0    0   0    0   Volume No   0.0\n",
      "96  TORNTPHARM.NS        0    0   0    0   Volume No   0.0\n",
      "97  MCDOWELL-N.NS        0    0   0    0   Volume No   0.0\n",
      "98        VEDL.NS        0    0   0    0   Volume No   0.0\n",
      "99     YESBANK.NS        0    0   0    0   Volume No   0.0\n",
      "\n",
      "[100 rows x 7 columns]\n"
     ]
    }
   ],
   "source": [
    "nifty_tickers=pd.read_csv('Nifty_yahoo_ticker.csv')\n",
    "Nifty_list=nifty_tickers[\"Yahoo_Symbol\"]\n",
    "TechnicalAnalysis=pd.DataFrame([],columns=['Name','Marubozu','Doji','RSI','MACD','Volume','Total'])\n",
    "for i in Nifty_list:\n",
    "    A=[]\n",
    "    A.append(i)\n",
    "    df = pd.read_excel('Nifty50_Data.xlsx',sheet_name=i)\n",
    "    #Checking for Single Candlestick Patterns\n",
    "    Open=df.iloc[-1][\"Open\"]\n",
    "    High=df.iloc[-1][\"High\"]\n",
    "    Low=df.iloc[-1][\"Low\"]\n",
    "    Close=df.iloc[-1][\"Close\"]\n",
    "    %run ./Check_SCP.ipynb\n",
    "    Check_SCP(Open,High,Low,Close,A)\n",
    "    #Checking with indicators\n",
    "    Open=df[\"Open\"]\n",
    "    High=df[\"High\"]\n",
    "    Low=df[\"Low\"]\n",
    "    Close=df[\"Close\"]\n",
    "    Volume=df[\"Volume\"]\n",
    "    %run ./Check_Indicators.ipynb\n",
    "    Check_Indicators(Open,High,Low,Close,Volume,A)\n",
    "    #Finding Conclusions\n",
    "    sum=0\n",
    "    multiplier=1\n",
    "    for i in A:\n",
    "        if (isinstance(i,int)==1) :\n",
    "            sum+=i\n",
    "        if i=='Volume Yes' :\n",
    "            multiplier*=2\n",
    "        if i=='Volume No' :\n",
    "            multiplier*=0.5\n",
    "        if i=='Doji':\n",
    "            multiplier*=2\n",
    "    sum=sum*multiplier\n",
    "    A.append(sum)\n",
    "    #Updating the output dataframe\n",
    "    a_series = pd.Series(A, index = TechnicalAnalysis.columns)\n",
    "    TechnicalAnalysis = TechnicalAnalysis.append(a_series, ignore_index=True)\n",
    "\n",
    "print(TechnicalAnalysis)"
   ]
  },
  {
   "cell_type": "code",
   "execution_count": 4,
   "id": "41d334c8",
   "metadata": {},
   "outputs": [],
   "source": [
    "#export to Excel\n",
    "TechnicalAnalysis.to_excel(\"LongShortOpportunites.xlsx\",sheet_name='Equities')"
   ]
  },
  {
   "cell_type": "code",
   "execution_count": null,
   "id": "f83b75d2",
   "metadata": {},
   "outputs": [],
   "source": []
  }
 ],
 "metadata": {
  "kernelspec": {
   "display_name": "Python 3",
   "language": "python",
   "name": "python3"
  },
  "language_info": {
   "codemirror_mode": {
    "name": "ipython",
    "version": 3
   },
   "file_extension": ".py",
   "mimetype": "text/x-python",
   "name": "python",
   "nbconvert_exporter": "python",
   "pygments_lexer": "ipython3",
   "version": "3.8.8"
  }
 },
 "nbformat": 4,
 "nbformat_minor": 5
}
